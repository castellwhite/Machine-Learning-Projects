{
 "cells": [
  {
   "cell_type": "markdown",
   "metadata": {},
   "source": [
    "# Influencers in Social Networks\n",
    "\n",
    "by [Jesus Solano](http://www.jesussolano.com/) -- [Jesus Solano](http://www.jesussolano.com/) -- [Jesus Solano](http://www.jesussolano.com/) -- [Jesus Solano](http://www.jesussolano.com/)\n",
    "\n",
    "\n",
    "version 1.0, June 13 2018"
   ]
  },
  {
   "cell_type": "code",
   "execution_count": 2,
   "metadata": {},
   "outputs": [
    {
     "data": {
      "text/html": [
       "<div>\n",
       "<style scoped>\n",
       "    .dataframe tbody tr th:only-of-type {\n",
       "        vertical-align: middle;\n",
       "    }\n",
       "\n",
       "    .dataframe tbody tr th {\n",
       "        vertical-align: top;\n",
       "    }\n",
       "\n",
       "    .dataframe thead th {\n",
       "        text-align: right;\n",
       "    }\n",
       "</style>\n",
       "<table border=\"1\" class=\"dataframe\">\n",
       "  <thead>\n",
       "    <tr style=\"text-align: right;\">\n",
       "      <th></th>\n",
       "      <th>Choice</th>\n",
       "      <th>A_follower_count</th>\n",
       "      <th>A_following_count</th>\n",
       "      <th>A_listed_count</th>\n",
       "      <th>A_mentions_received</th>\n",
       "      <th>A_retweets_received</th>\n",
       "      <th>A_mentions_sent</th>\n",
       "      <th>A_retweets_sent</th>\n",
       "      <th>A_posts</th>\n",
       "      <th>A_network_feature_1</th>\n",
       "      <th>...</th>\n",
       "      <th>B_following_count</th>\n",
       "      <th>B_listed_count</th>\n",
       "      <th>B_mentions_received</th>\n",
       "      <th>B_retweets_received</th>\n",
       "      <th>B_mentions_sent</th>\n",
       "      <th>B_retweets_sent</th>\n",
       "      <th>B_posts</th>\n",
       "      <th>B_network_feature_1</th>\n",
       "      <th>B_network_feature_2</th>\n",
       "      <th>B_network_feature_3</th>\n",
       "    </tr>\n",
       "  </thead>\n",
       "  <tbody>\n",
       "    <tr>\n",
       "      <th>0</th>\n",
       "      <td>0</td>\n",
       "      <td>228</td>\n",
       "      <td>302</td>\n",
       "      <td>3</td>\n",
       "      <td>0.583979</td>\n",
       "      <td>0.100503</td>\n",
       "      <td>0.100503</td>\n",
       "      <td>0.100503</td>\n",
       "      <td>0.362150</td>\n",
       "      <td>2</td>\n",
       "      <td>...</td>\n",
       "      <td>29808</td>\n",
       "      <td>1689</td>\n",
       "      <td>15.430498</td>\n",
       "      <td>3.984029</td>\n",
       "      <td>8.204331</td>\n",
       "      <td>0.332423</td>\n",
       "      <td>6.988815</td>\n",
       "      <td>66</td>\n",
       "      <td>75.530303</td>\n",
       "      <td>1916.893939</td>\n",
       "    </tr>\n",
       "    <tr>\n",
       "      <th>1</th>\n",
       "      <td>0</td>\n",
       "      <td>21591</td>\n",
       "      <td>1179</td>\n",
       "      <td>228</td>\n",
       "      <td>90.456506</td>\n",
       "      <td>25.798292</td>\n",
       "      <td>5.709329</td>\n",
       "      <td>1.111159</td>\n",
       "      <td>5.176620</td>\n",
       "      <td>369</td>\n",
       "      <td>...</td>\n",
       "      <td>848</td>\n",
       "      <td>1610</td>\n",
       "      <td>40.495021</td>\n",
       "      <td>8.943607</td>\n",
       "      <td>3.227677</td>\n",
       "      <td>0.564343</td>\n",
       "      <td>1.070321</td>\n",
       "      <td>163</td>\n",
       "      <td>132.030675</td>\n",
       "      <td>2931.515337</td>\n",
       "    </tr>\n",
       "    <tr>\n",
       "      <th>2</th>\n",
       "      <td>0</td>\n",
       "      <td>7310</td>\n",
       "      <td>1215</td>\n",
       "      <td>101</td>\n",
       "      <td>25.503644</td>\n",
       "      <td>9.556347</td>\n",
       "      <td>5.361519</td>\n",
       "      <td>0.591206</td>\n",
       "      <td>3.589718</td>\n",
       "      <td>95</td>\n",
       "      <td>...</td>\n",
       "      <td>482</td>\n",
       "      <td>206</td>\n",
       "      <td>0.734696</td>\n",
       "      <td>0.354379</td>\n",
       "      <td>0.603202</td>\n",
       "      <td>0.100503</td>\n",
       "      <td>0.603202</td>\n",
       "      <td>3</td>\n",
       "      <td>10.333333</td>\n",
       "      <td>277.333333</td>\n",
       "    </tr>\n",
       "    <tr>\n",
       "      <th>3</th>\n",
       "      <td>0</td>\n",
       "      <td>20</td>\n",
       "      <td>7</td>\n",
       "      <td>2</td>\n",
       "      <td>7.690824</td>\n",
       "      <td>0.277306</td>\n",
       "      <td>1.331508</td>\n",
       "      <td>0.100503</td>\n",
       "      <td>2.830627</td>\n",
       "      <td>6</td>\n",
       "      <td>...</td>\n",
       "      <td>17637</td>\n",
       "      <td>278</td>\n",
       "      <td>572.874856</td>\n",
       "      <td>390.293681</td>\n",
       "      <td>27.552040</td>\n",
       "      <td>7.167557</td>\n",
       "      <td>32.101906</td>\n",
       "      <td>1762</td>\n",
       "      <td>23.469296</td>\n",
       "      <td>1395.845634</td>\n",
       "    </tr>\n",
       "    <tr>\n",
       "      <th>4</th>\n",
       "      <td>1</td>\n",
       "      <td>45589</td>\n",
       "      <td>862</td>\n",
       "      <td>2641</td>\n",
       "      <td>148.854279</td>\n",
       "      <td>36.998884</td>\n",
       "      <td>27.881768</td>\n",
       "      <td>3.333492</td>\n",
       "      <td>23.861282</td>\n",
       "      <td>551</td>\n",
       "      <td>...</td>\n",
       "      <td>1711</td>\n",
       "      <td>181</td>\n",
       "      <td>21.601866</td>\n",
       "      <td>3.581661</td>\n",
       "      <td>6.764657</td>\n",
       "      <td>1.119727</td>\n",
       "      <td>4.563246</td>\n",
       "      <td>85</td>\n",
       "      <td>48.500000</td>\n",
       "      <td>1993.627907</td>\n",
       "    </tr>\n",
       "  </tbody>\n",
       "</table>\n",
       "<p>5 rows × 23 columns</p>\n",
       "</div>"
      ],
      "text/plain": [
       "   Choice  A_follower_count  A_following_count  A_listed_count  \\\n",
       "0       0               228                302               3   \n",
       "1       0             21591               1179             228   \n",
       "2       0              7310               1215             101   \n",
       "3       0                20                  7               2   \n",
       "4       1             45589                862            2641   \n",
       "\n",
       "   A_mentions_received  A_retweets_received  A_mentions_sent  A_retweets_sent  \\\n",
       "0             0.583979             0.100503         0.100503         0.100503   \n",
       "1            90.456506            25.798292         5.709329         1.111159   \n",
       "2            25.503644             9.556347         5.361519         0.591206   \n",
       "3             7.690824             0.277306         1.331508         0.100503   \n",
       "4           148.854279            36.998884        27.881768         3.333492   \n",
       "\n",
       "     A_posts  A_network_feature_1         ...           B_following_count  \\\n",
       "0   0.362150                    2         ...                       29808   \n",
       "1   5.176620                  369         ...                         848   \n",
       "2   3.589718                   95         ...                         482   \n",
       "3   2.830627                    6         ...                       17637   \n",
       "4  23.861282                  551         ...                        1711   \n",
       "\n",
       "   B_listed_count  B_mentions_received  B_retweets_received  B_mentions_sent  \\\n",
       "0            1689            15.430498             3.984029         8.204331   \n",
       "1            1610            40.495021             8.943607         3.227677   \n",
       "2             206             0.734696             0.354379         0.603202   \n",
       "3             278           572.874856           390.293681        27.552040   \n",
       "4             181            21.601866             3.581661         6.764657   \n",
       "\n",
       "   B_retweets_sent    B_posts  B_network_feature_1  B_network_feature_2  \\\n",
       "0         0.332423   6.988815                   66            75.530303   \n",
       "1         0.564343   1.070321                  163           132.030675   \n",
       "2         0.100503   0.603202                    3            10.333333   \n",
       "3         7.167557  32.101906                 1762            23.469296   \n",
       "4         1.119727   4.563246                   85            48.500000   \n",
       "\n",
       "   B_network_feature_3  \n",
       "0          1916.893939  \n",
       "1          2931.515337  \n",
       "2           277.333333  \n",
       "3          1395.845634  \n",
       "4          1993.627907  \n",
       "\n",
       "[5 rows x 23 columns]"
      ]
     },
     "execution_count": 2,
     "metadata": {},
     "output_type": "execute_result"
    }
   ],
   "source": [
    "import pandas as pd\n",
    "data = pd.read_csv(\"https://github.com/jesugome/InfluencersInSocialNetworks/raw/master/datasets/train.csv\",sep=\",\")\n",
    "data.head()"
   ]
  },
  {
   "cell_type": "code",
   "execution_count": 3,
   "metadata": {},
   "outputs": [
    {
     "name": "stdout",
     "output_type": "stream",
     "text": [
      "El archivo contiene:  5500\n"
     ]
    }
   ],
   "source": [
    "# Split the original data into train and test. \n",
    "\n",
    "from sklearn import model_selection \n",
    "\n",
    "dataSize = data.shape[0]\n",
    "print(\"El archivo contiene: \",dataSize)\n",
    "\n",
    "percentage = 0.30 \n",
    "\n",
    "xTrain,xTest,yTrain,yTest = model_selection.train_test_split(data.iloc[:,1:],data.iloc[:,0],test_size=percentage,random_state=22)\n",
    "\n"
   ]
  },
  {
   "cell_type": "markdown",
   "metadata": {},
   "source": [
    "## Pre-processing Data"
   ]
  },
  {
   "cell_type": "code",
   "execution_count": 4,
   "metadata": {},
   "outputs": [],
   "source": [
    "# Import the neccesary libraries and set a seed. \n",
    "import numpy as np\n",
    "\n",
    "\n",
    "np.random.seed(22)"
   ]
  },
  {
   "cell_type": "markdown",
   "metadata": {},
   "source": [
    "## Random Forest Classifier"
   ]
  },
  {
   "cell_type": "code",
   "execution_count": 5,
   "metadata": {},
   "outputs": [],
   "source": [
    "# Random Forest Classifier. \n",
    "\n",
    "from sklearn.ensemble import RandomForestClassifier\n",
    "\n",
    "rfc = RandomForestClassifier(n_jobs=2,n_estimators=100, random_state=0)\n",
    "\n",
    "rfc.fit(xTrain, yTrain)\n",
    "\n",
    "predictions = rfc.predict(xTest) "
   ]
  },
  {
   "cell_type": "code",
   "execution_count": 6,
   "metadata": {},
   "outputs": [
    {
     "name": "stdout",
     "output_type": "stream",
     "text": [
      "Accuracy =  0.7618181818181818\n"
     ]
    }
   ],
   "source": [
    "# Calculate testing accuracy\n",
    "\n",
    "from sklearn import metrics \n",
    "\n",
    "print(\"Accuracy = \",metrics.accuracy_score(yTest, predictions))"
   ]
  },
  {
   "cell_type": "code",
   "execution_count": 7,
   "metadata": {},
   "outputs": [
    {
     "data": {
      "text/html": [
       "<div>\n",
       "<style scoped>\n",
       "    .dataframe tbody tr th:only-of-type {\n",
       "        vertical-align: middle;\n",
       "    }\n",
       "\n",
       "    .dataframe tbody tr th {\n",
       "        vertical-align: top;\n",
       "    }\n",
       "\n",
       "    .dataframe thead th {\n",
       "        text-align: right;\n",
       "    }\n",
       "</style>\n",
       "<table border=\"1\" class=\"dataframe\">\n",
       "  <thead>\n",
       "    <tr style=\"text-align: right;\">\n",
       "      <th>col_0</th>\n",
       "      <th>0</th>\n",
       "      <th>1</th>\n",
       "    </tr>\n",
       "    <tr>\n",
       "      <th>Choice</th>\n",
       "      <th></th>\n",
       "      <th></th>\n",
       "    </tr>\n",
       "  </thead>\n",
       "  <tbody>\n",
       "    <tr>\n",
       "      <th>0</th>\n",
       "      <td>608</td>\n",
       "      <td>211</td>\n",
       "    </tr>\n",
       "    <tr>\n",
       "      <th>1</th>\n",
       "      <td>182</td>\n",
       "      <td>649</td>\n",
       "    </tr>\n",
       "  </tbody>\n",
       "</table>\n",
       "</div>"
      ],
      "text/plain": [
       "col_0     0    1\n",
       "Choice          \n",
       "0       608  211\n",
       "1       182  649"
      ]
     },
     "execution_count": 7,
     "metadata": {},
     "output_type": "execute_result"
    }
   ],
   "source": [
    "# Confusion matrix.\n",
    "pd.crosstab(yTest, predictions)"
   ]
  },
  {
   "cell_type": "code",
   "execution_count": 8,
   "metadata": {},
   "outputs": [
    {
     "name": "stdout",
     "output_type": "stream",
     "text": [
      "AUC =  0.8576806266336952\n"
     ]
    }
   ],
   "source": [
    "# Calculating the AUC score. \n",
    "predictionsProbability = rfc.predict_proba(xTest)[:,1]\n",
    "predictionsProbability \n",
    "print(\"AUC = \",metrics.roc_auc_score(yTest, predictionsProbability))"
   ]
  },
  {
   "cell_type": "code",
   "execution_count": 9,
   "metadata": {},
   "outputs": [
    {
     "data": {
      "text/plain": [
       "Text(0,0.5,'True Positive Rate (Sensitivity)')"
      ]
     },
     "execution_count": 9,
     "metadata": {},
     "output_type": "execute_result"
    },
    {
     "data": {
      "image/png": "[encoded data removed]",
      "text/plain": [
       "<Figure size 432x288 with 1 Axes>"
      ]
     },
     "metadata": {},
     "output_type": "display_data"
    }
   ],
   "source": [
    "# Plot the ROC curve.\n",
    "%matplotlib inline\n",
    "import matplotlib.pyplot as plt\n",
    "fpr, tpr, thresholds = metrics.roc_curve(yTest, predictionsProbability)\n",
    "plt.plot(fpr, tpr)\n",
    "plt.xlim([0.0, 1.0])\n",
    "plt.ylim([0.0, 1.0])\n",
    "plt.xlabel('False Positive Rate (1 - Specificity)')\n",
    "plt.ylabel('True Positive Rate (Sensitivity)')"
   ]
  },
  {
   "cell_type": "code",
   "execution_count": 10,
   "metadata": {},
   "outputs": [
    {
     "name": "stdout",
     "output_type": "stream",
     "text": [
      "Accuracy: 0.769 (+/- 0.033)\n"
     ]
    }
   ],
   "source": [
    "# K-Fold Cross validation. \n",
    "from sklearn.model_selection import cross_val_score\n",
    "k=10\n",
    "scores=cross_val_score(rfc,data.iloc[:,1:],data.iloc[:,0],cv=k)\n",
    "print(\"Accuracy: %0.3f (+/- %0.3f)\" % (scores.mean(), scores.std() * 2))"
   ]
  },
  {
   "cell_type": "code",
   "execution_count": 11,
   "metadata": {},
   "outputs": [
    {
     "name": "stdout",
     "output_type": "stream",
     "text": [
      "AUC: 0.859 (+/- 0.028)\n"
     ]
    }
   ],
   "source": [
    "# K-Fold Cross validation. \n",
    "k=10\n",
    "scores=cross_val_score(rfc,data.iloc[:,1:],data.iloc[:,0],cv=k,scoring='roc_auc')\n",
    "print(\"AUC: %0.3f (+/- %0.3f)\" % (scores.mean(), scores.std() * 2))"
   ]
  },
  {
   "cell_type": "markdown",
   "metadata": {},
   "source": [
    "## k-nearest Neighbors"
   ]
  },
  {
   "cell_type": "code",
   "execution_count": 12,
   "metadata": {},
   "outputs": [],
   "source": [
    "# K-nearest neighbors Classifier. \n",
    "\n",
    "from sklearn.neighbors import KNeighborsClassifier\n",
    "\n",
    "# Parameter is the number of neighbors. \n",
    "\n",
    "rfc = KNeighborsClassifier(30)\n",
    "\n",
    "rfc.fit(xTrain, yTrain)\n",
    "\n",
    "predictions = rfc.predict(xTest) "
   ]
  },
  {
   "cell_type": "code",
   "execution_count": 13,
   "metadata": {},
   "outputs": [
    {
     "name": "stdout",
     "output_type": "stream",
     "text": [
      "Accuracy =  0.7448484848484849\n"
     ]
    }
   ],
   "source": [
    "# Calculate testing accuracy\n",
    "\n",
    "from sklearn import metrics \n",
    "\n",
    "print(\"Accuracy = \",metrics.accuracy_score(yTest, predictions))"
   ]
  },
  {
   "cell_type": "code",
   "execution_count": 14,
   "metadata": {},
   "outputs": [
    {
     "data": {
      "text/html": [
       "<div>\n",
       "<style scoped>\n",
       "    .dataframe tbody tr th:only-of-type {\n",
       "        vertical-align: middle;\n",
       "    }\n",
       "\n",
       "    .dataframe tbody tr th {\n",
       "        vertical-align: top;\n",
       "    }\n",
       "\n",
       "    .dataframe thead th {\n",
       "        text-align: right;\n",
       "    }\n",
       "</style>\n",
       "<table border=\"1\" class=\"dataframe\">\n",
       "  <thead>\n",
       "    <tr style=\"text-align: right;\">\n",
       "      <th>col_0</th>\n",
       "      <th>0</th>\n",
       "      <th>1</th>\n",
       "    </tr>\n",
       "    <tr>\n",
       "      <th>Choice</th>\n",
       "      <th></th>\n",
       "      <th></th>\n",
       "    </tr>\n",
       "  </thead>\n",
       "  <tbody>\n",
       "    <tr>\n",
       "      <th>0</th>\n",
       "      <td>591</td>\n",
       "      <td>228</td>\n",
       "    </tr>\n",
       "    <tr>\n",
       "      <th>1</th>\n",
       "      <td>193</td>\n",
       "      <td>638</td>\n",
       "    </tr>\n",
       "  </tbody>\n",
       "</table>\n",
       "</div>"
      ],
      "text/plain": [
       "col_0     0    1\n",
       "Choice          \n",
       "0       591  228\n",
       "1       193  638"
      ]
     },
     "execution_count": 14,
     "metadata": {},
     "output_type": "execute_result"
    }
   ],
   "source": [
    "# Confusion matrix.\n",
    "pd.crosstab(yTest, predictions)"
   ]
  },
  {
   "cell_type": "code",
   "execution_count": 15,
   "metadata": {},
   "outputs": [
    {
     "name": "stdout",
     "output_type": "stream",
     "text": [
      "AUC =  0.8232031372825596\n"
     ]
    }
   ],
   "source": [
    "# Calculating the AUC score. \n",
    "predictionsProbability = rfc.predict_proba(xTest)[:,1]\n",
    "predictionsProbability \n",
    "print(\"AUC = \",metrics.roc_auc_score(yTest, predictionsProbability))"
   ]
  },
  {
   "cell_type": "code",
   "execution_count": 16,
   "metadata": {
    "scrolled": true
   },
   "outputs": [
    {
     "data": {
      "text/plain": [
       "Text(0,0.5,'True Positive Rate (Sensitivity)')"
      ]
     },
     "execution_count": 16,
     "metadata": {},
     "output_type": "execute_result"
    },
    {
     "data": {
      "image/png": "[encoded data removed]",
      "text/plain": [
       "<Figure size 432x288 with 1 Axes>"
      ]
     },
     "metadata": {},
     "output_type": "display_data"
    }
   ],
   "source": [
    "# Plot the ROC curve.\n",
    "%matplotlib inline\n",
    "import matplotlib.pyplot as plt\n",
    "fpr, tpr, thresholds = metrics.roc_curve(yTest, predictionsProbability)\n",
    "plt.plot(fpr, tpr)\n",
    "plt.xlim([0.0, 1.0])\n",
    "plt.ylim([0.0, 1.0])\n",
    "plt.xlabel('False Positive Rate (1 - Specificity)')\n",
    "plt.ylabel('True Positive Rate (Sensitivity)')"
   ]
  },
  {
   "cell_type": "code",
   "execution_count": 17,
   "metadata": {},
   "outputs": [
    {
     "name": "stdout",
     "output_type": "stream",
     "text": [
      "Accuracy: 0.751 (+/- 0.045)\n"
     ]
    }
   ],
   "source": [
    "# K-Fold Cross validation. \n",
    "from sklearn.model_selection import cross_val_score\n",
    "k=10\n",
    "scores=cross_val_score(rfc,data.iloc[:,1:],data.iloc[:,0],cv=k)\n",
    "print(\"Accuracy: %0.3f (+/- %0.3f)\" % (scores.mean(), scores.std() * 2))"
   ]
  },
  {
   "cell_type": "code",
   "execution_count": 18,
   "metadata": {},
   "outputs": [
    {
     "name": "stdout",
     "output_type": "stream",
     "text": [
      "AUC: 0.833 (+/- 0.043)\n"
     ]
    }
   ],
   "source": [
    "# K-Fold Cross validation. \n",
    "k=10\n",
    "scores=cross_val_score(rfc,data.iloc[:,1:],data.iloc[:,0],cv=k,scoring='roc_auc')\n",
    "print(\"AUC: %0.3f (+/- %0.3f)\" % (scores.mean(), scores.std() * 2))"
   ]
  },
  {
   "cell_type": "markdown",
   "metadata": {},
   "source": [
    "##  Linear Support Vector Classification"
   ]
  },
  {
   "cell_type": "code",
   "execution_count": null,
   "metadata": {},
   "outputs": [],
   "source": [
    "# Support vector Classifier. \n",
    "\n",
    "from sklearn.svm import SVC\n",
    "\n",
    "# Parameter is the number of neighbors. \n",
    "\n",
    "rfc = SVC(kernel=\"linear\", C=0.025)\n",
    "\n",
    "rfc.fit(xTrain, yTrain)\n",
    "\n",
    "predictions = rfc.predict(xTest) "
   ]
  },
  {
   "cell_type": "code",
   "execution_count": null,
   "metadata": {},
   "outputs": [],
   "source": [
    "# Calculate testing accuracy\n",
    "\n",
    "from sklearn import metrics \n",
    "\n",
    "print(\"Accuracy = \",metrics.accuracy_score(yTest, predictions))"
   ]
  },
  {
   "cell_type": "code",
   "execution_count": 46,
   "metadata": {},
   "outputs": [
    {
     "data": {
      "text/html": [
       "<div>\n",
       "<style scoped>\n",
       "    .dataframe tbody tr th:only-of-type {\n",
       "        vertical-align: middle;\n",
       "    }\n",
       "\n",
       "    .dataframe tbody tr th {\n",
       "        vertical-align: top;\n",
       "    }\n",
       "\n",
       "    .dataframe thead th {\n",
       "        text-align: right;\n",
       "    }\n",
       "</style>\n",
       "<table border=\"1\" class=\"dataframe\">\n",
       "  <thead>\n",
       "    <tr style=\"text-align: right;\">\n",
       "      <th>col_0</th>\n",
       "      <th>0</th>\n",
       "      <th>1</th>\n",
       "    </tr>\n",
       "    <tr>\n",
       "      <th>Choice</th>\n",
       "      <th></th>\n",
       "      <th></th>\n",
       "    </tr>\n",
       "  </thead>\n",
       "  <tbody>\n",
       "    <tr>\n",
       "      <th>0</th>\n",
       "      <td>591</td>\n",
       "      <td>228</td>\n",
       "    </tr>\n",
       "    <tr>\n",
       "      <th>1</th>\n",
       "      <td>193</td>\n",
       "      <td>638</td>\n",
       "    </tr>\n",
       "  </tbody>\n",
       "</table>\n",
       "</div>"
      ],
      "text/plain": [
       "col_0     0    1\n",
       "Choice          \n",
       "0       591  228\n",
       "1       193  638"
      ]
     },
     "execution_count": 46,
     "metadata": {},
     "output_type": "execute_result"
    }
   ],
   "source": [
    "# Confusion matrix.\n",
    "pd.crosstab(yTest, predictions)"
   ]
  },
  {
   "cell_type": "code",
   "execution_count": 47,
   "metadata": {},
   "outputs": [
    {
     "name": "stdout",
     "output_type": "stream",
     "text": [
      "AUC =  0.8232031372825596\n"
     ]
    }
   ],
   "source": [
    "# Calculating the AUC score. \n",
    "predictionsProbability = rfc.predict_proba(xTest)[:,1]\n",
    "predictionsProbability \n",
    "print(\"AUC = \",metrics.roc_auc_score(yTest, predictionsProbability))"
   ]
  },
  {
   "cell_type": "code",
   "execution_count": 48,
   "metadata": {
    "scrolled": true
   },
   "outputs": [
    {
     "data": {
      "text/plain": [
       "Text(0,0.5,'True Positive Rate (Sensitivity)')"
      ]
     },
     "execution_count": 48,
     "metadata": {},
     "output_type": "execute_result"
    },
    {
     "data": {
      "image/png": "[encoded data removed]",
      "text/plain": [
       "<Figure size 432x288 with 1 Axes>"
      ]
     },
     "metadata": {},
     "output_type": "display_data"
    }
   ],
   "source": [
    "# Plot the ROC curve.\n",
    "%matplotlib inline\n",
    "import matplotlib.pyplot as plt\n",
    "fpr, tpr, thresholds = metrics.roc_curve(yTest, predictionsProbability)\n",
    "plt.plot(fpr, tpr)\n",
    "plt.xlim([0.0, 1.0])\n",
    "plt.ylim([0.0, 1.0])\n",
    "plt.xlabel('False Positive Rate (1 - Specificity)')\n",
    "plt.ylabel('True Positive Rate (Sensitivity)')"
   ]
  },
  {
   "cell_type": "code",
   "execution_count": 49,
   "metadata": {},
   "outputs": [
    {
     "name": "stdout",
     "output_type": "stream",
     "text": [
      "Accuracy: 0.751 (+/- 0.045)\n"
     ]
    }
   ],
   "source": [
    "# K-Fold Cross validation. \n",
    "from sklearn.model_selection import cross_val_score\n",
    "k=10\n",
    "scores=cross_val_score(rfc,data.iloc[:,1:],data.iloc[:,0],cv=k)\n",
    "print(\"Accuracy: %0.3f (+/- %0.3f)\" % (scores.mean(), scores.std() * 2))"
   ]
  },
  {
   "cell_type": "code",
   "execution_count": 50,
   "metadata": {},
   "outputs": [
    {
     "name": "stdout",
     "output_type": "stream",
     "text": [
      "AUC: 0.833 (+/- 0.043)\n"
     ]
    }
   ],
   "source": [
    "# K-Fold Cross validation. \n",
    "k=10\n",
    "scores=cross_val_score(rfc,data.iloc[:,1:],data.iloc[:,0],cv=k,scoring='roc_auc')\n",
    "print(\"AUC: %0.3f (+/- %0.3f)\" % (scores.mean(), scores.std() * 2))"
   ]
  },
  {
   "cell_type": "markdown",
   "metadata": {},
   "source": [
    "## Gaussian Process Classifier"
   ]
  },
  {
   "cell_type": "code",
   "execution_count": 44,
   "metadata": {},
   "outputs": [],
   "source": [
    "# Gaussian Process Classifier.\n",
    "\n",
    "from sklearn.gaussian_process import GaussianProcessClassifier\n",
    "from sklearn.gaussian_process.kernels import RBF\n",
    "\n",
    "rfc = GaussianProcessClassifier(1.0 * RBF(1.0))\n",
    "\n",
    "rfc.fit(xTrain, yTrain)\n",
    "\n",
    "predictions = rfc.predict(xTest) "
   ]
  },
  {
   "cell_type": "code",
   "execution_count": 45,
   "metadata": {},
   "outputs": [
    {
     "name": "stdout",
     "output_type": "stream",
     "text": [
      "Accuracy =  0.7448484848484849\n"
     ]
    }
   ],
   "source": [
    "# Calculate testing accuracy\n",
    "\n",
    "from sklearn import metrics \n",
    "\n",
    "print(\"Accuracy = \",metrics.accuracy_score(yTest, predictions))"
   ]
  },
  {
   "cell_type": "code",
   "execution_count": 46,
   "metadata": {},
   "outputs": [
    {
     "data": {
      "text/html": [
       "<div>\n",
       "<style scoped>\n",
       "    .dataframe tbody tr th:only-of-type {\n",
       "        vertical-align: middle;\n",
       "    }\n",
       "\n",
       "    .dataframe tbody tr th {\n",
       "        vertical-align: top;\n",
       "    }\n",
       "\n",
       "    .dataframe thead th {\n",
       "        text-align: right;\n",
       "    }\n",
       "</style>\n",
       "<table border=\"1\" class=\"dataframe\">\n",
       "  <thead>\n",
       "    <tr style=\"text-align: right;\">\n",
       "      <th>col_0</th>\n",
       "      <th>0</th>\n",
       "      <th>1</th>\n",
       "    </tr>\n",
       "    <tr>\n",
       "      <th>Choice</th>\n",
       "      <th></th>\n",
       "      <th></th>\n",
       "    </tr>\n",
       "  </thead>\n",
       "  <tbody>\n",
       "    <tr>\n",
       "      <th>0</th>\n",
       "      <td>591</td>\n",
       "      <td>228</td>\n",
       "    </tr>\n",
       "    <tr>\n",
       "      <th>1</th>\n",
       "      <td>193</td>\n",
       "      <td>638</td>\n",
       "    </tr>\n",
       "  </tbody>\n",
       "</table>\n",
       "</div>"
      ],
      "text/plain": [
       "col_0     0    1\n",
       "Choice          \n",
       "0       591  228\n",
       "1       193  638"
      ]
     },
     "execution_count": 46,
     "metadata": {},
     "output_type": "execute_result"
    }
   ],
   "source": [
    "# Confusion matrix.\n",
    "pd.crosstab(yTest, predictions)"
   ]
  },
  {
   "cell_type": "code",
   "execution_count": 47,
   "metadata": {},
   "outputs": [
    {
     "name": "stdout",
     "output_type": "stream",
     "text": [
      "AUC =  0.8232031372825596\n"
     ]
    }
   ],
   "source": [
    "# Calculating the AUC score. \n",
    "predictionsProbability = rfc.predict_proba(xTest)[:,1]\n",
    "predictionsProbability \n",
    "print(\"AUC = \",metrics.roc_auc_score(yTest, predictionsProbability))"
   ]
  },
  {
   "cell_type": "code",
   "execution_count": 48,
   "metadata": {
    "scrolled": true
   },
   "outputs": [
    {
     "data": {
      "text/plain": [
       "Text(0,0.5,'True Positive Rate (Sensitivity)')"
      ]
     },
     "execution_count": 48,
     "metadata": {},
     "output_type": "execute_result"
    },
    {
     "data": {
      "image/png": "[encoded data removed]",
      "text/plain": [
       "<Figure size 432x288 with 1 Axes>"
      ]
     },
     "metadata": {},
     "output_type": "display_data"
    }
   ],
   "source": [
    "# Plot the ROC curve.\n",
    "%matplotlib inline\n",
    "import matplotlib.pyplot as plt\n",
    "fpr, tpr, thresholds = metrics.roc_curve(yTest, predictionsProbability)\n",
    "plt.plot(fpr, tpr)\n",
    "plt.xlim([0.0, 1.0])\n",
    "plt.ylim([0.0, 1.0])\n",
    "plt.xlabel('False Positive Rate (1 - Specificity)')\n",
    "plt.ylabel('True Positive Rate (Sensitivity)')"
   ]
  },
  {
   "cell_type": "code",
   "execution_count": 49,
   "metadata": {},
   "outputs": [
    {
     "name": "stdout",
     "output_type": "stream",
     "text": [
      "Accuracy: 0.751 (+/- 0.045)\n"
     ]
    }
   ],
   "source": [
    "# K-Fold Cross validation. \n",
    "from sklearn.model_selection import cross_val_score\n",
    "k=10\n",
    "scores=cross_val_score(rfc,data.iloc[:,1:],data.iloc[:,0],cv=k)\n",
    "print(\"Accuracy: %0.3f (+/- %0.3f)\" % (scores.mean(), scores.std() * 2))"
   ]
  },
  {
   "cell_type": "code",
   "execution_count": 50,
   "metadata": {},
   "outputs": [
    {
     "name": "stdout",
     "output_type": "stream",
     "text": [
      "AUC: 0.833 (+/- 0.043)\n"
     ]
    }
   ],
   "source": [
    "# K-Fold Cross validation. \n",
    "k=10\n",
    "scores=cross_val_score(rfc,data.iloc[:,1:],data.iloc[:,0],cv=k,scoring='roc_auc')\n",
    "print(\"AUC: %0.3f (+/- %0.3f)\" % (scores.mean(), scores.std() * 2))"
   ]
  },
  {
   "cell_type": "markdown",
   "metadata": {},
   "source": [
    "## Decision Tree Classifier"
   ]
  },
  {
   "cell_type": "code",
   "execution_count": 19,
   "metadata": {},
   "outputs": [],
   "source": [
    "# Decision Tree Classifier\n",
    "\n",
    "from sklearn.tree import DecisionTreeClassifier\n",
    "\n",
    "rfc = DecisionTreeClassifier(max_depth=5)\n",
    "\n",
    "rfc.fit(xTrain, yTrain)\n",
    "\n",
    "predictions = rfc.predict(xTest) "
   ]
  },
  {
   "cell_type": "code",
   "execution_count": 20,
   "metadata": {},
   "outputs": [
    {
     "name": "stdout",
     "output_type": "stream",
     "text": [
      "Accuracy =  0.7460606060606061\n"
     ]
    }
   ],
   "source": [
    "# Calculate testing accuracy\n",
    "\n",
    "from sklearn import metrics \n",
    "\n",
    "print(\"Accuracy = \",metrics.accuracy_score(yTest, predictions))"
   ]
  },
  {
   "cell_type": "code",
   "execution_count": 21,
   "metadata": {},
   "outputs": [
    {
     "data": {
      "text/html": [
       "<div>\n",
       "<style scoped>\n",
       "    .dataframe tbody tr th:only-of-type {\n",
       "        vertical-align: middle;\n",
       "    }\n",
       "\n",
       "    .dataframe tbody tr th {\n",
       "        vertical-align: top;\n",
       "    }\n",
       "\n",
       "    .dataframe thead th {\n",
       "        text-align: right;\n",
       "    }\n",
       "</style>\n",
       "<table border=\"1\" class=\"dataframe\">\n",
       "  <thead>\n",
       "    <tr style=\"text-align: right;\">\n",
       "      <th>col_0</th>\n",
       "      <th>0</th>\n",
       "      <th>1</th>\n",
       "    </tr>\n",
       "    <tr>\n",
       "      <th>Choice</th>\n",
       "      <th></th>\n",
       "      <th></th>\n",
       "    </tr>\n",
       "  </thead>\n",
       "  <tbody>\n",
       "    <tr>\n",
       "      <th>0</th>\n",
       "      <td>601</td>\n",
       "      <td>218</td>\n",
       "    </tr>\n",
       "    <tr>\n",
       "      <th>1</th>\n",
       "      <td>201</td>\n",
       "      <td>630</td>\n",
       "    </tr>\n",
       "  </tbody>\n",
       "</table>\n",
       "</div>"
      ],
      "text/plain": [
       "col_0     0    1\n",
       "Choice          \n",
       "0       601  218\n",
       "1       201  630"
      ]
     },
     "execution_count": 21,
     "metadata": {},
     "output_type": "execute_result"
    }
   ],
   "source": [
    "# Confusion matrix.\n",
    "pd.crosstab(yTest, predictions)"
   ]
  },
  {
   "cell_type": "code",
   "execution_count": 22,
   "metadata": {},
   "outputs": [
    {
     "name": "stdout",
     "output_type": "stream",
     "text": [
      "AUC =  0.850868145091972\n"
     ]
    }
   ],
   "source": [
    "# Calculating the AUC score. \n",
    "predictionsProbability = rfc.predict_proba(xTest)[:,1]\n",
    "predictionsProbability \n",
    "print(\"AUC = \",metrics.roc_auc_score(yTest, predictionsProbability))"
   ]
  },
  {
   "cell_type": "code",
   "execution_count": 23,
   "metadata": {
    "scrolled": true
   },
   "outputs": [
    {
     "data": {
      "text/plain": [
       "Text(0,0.5,'True Positive Rate (Sensitivity)')"
      ]
     },
     "execution_count": 23,
     "metadata": {},
     "output_type": "execute_result"
    },
    {
     "data": {
      "image/png": "[encoded data removed]",
      "text/plain": [
       "<Figure size 432x288 with 1 Axes>"
      ]
     },
     "metadata": {},
     "output_type": "display_data"
    }
   ],
   "source": [
    "# Plot the ROC curve.\n",
    "%matplotlib inline\n",
    "import matplotlib.pyplot as plt\n",
    "fpr, tpr, thresholds = metrics.roc_curve(yTest, predictionsProbability)\n",
    "plt.plot(fpr, tpr)\n",
    "plt.xlim([0.0, 1.0])\n",
    "plt.ylim([0.0, 1.0])\n",
    "plt.xlabel('False Positive Rate (1 - Specificity)')\n",
    "plt.ylabel('True Positive Rate (Sensitivity)')"
   ]
  },
  {
   "cell_type": "code",
   "execution_count": 24,
   "metadata": {},
   "outputs": [
    {
     "name": "stdout",
     "output_type": "stream",
     "text": [
      "Accuracy: 0.755 (+/- 0.037)\n"
     ]
    }
   ],
   "source": [
    "# K-Fold Cross validation. \n",
    "from sklearn.model_selection import cross_val_score\n",
    "k=10\n",
    "scores=cross_val_score(rfc,data.iloc[:,1:],data.iloc[:,0],cv=k)\n",
    "print(\"Accuracy: %0.3f (+/- %0.3f)\" % (scores.mean(), scores.std() * 2))"
   ]
  },
  {
   "cell_type": "code",
   "execution_count": 25,
   "metadata": {},
   "outputs": [
    {
     "name": "stdout",
     "output_type": "stream",
     "text": [
      "AUC: 0.837 (+/- 0.038)\n"
     ]
    }
   ],
   "source": [
    "# K-Fold Cross validation. \n",
    "k=10\n",
    "scores=cross_val_score(rfc,data.iloc[:,1:],data.iloc[:,0],cv=k,scoring='roc_auc')\n",
    "print(\"AUC: %0.3f (+/- %0.3f)\" % (scores.mean(), scores.std() * 2))"
   ]
  },
  {
   "cell_type": "markdown",
   "metadata": {},
   "source": [
    "## AdaBoost classifier"
   ]
  },
  {
   "cell_type": "code",
   "execution_count": 26,
   "metadata": {},
   "outputs": [],
   "source": [
    "# AdaBoost classifier.\n",
    "\n",
    "from sklearn.ensemble import AdaBoostClassifier\n",
    "\n",
    "rfc = AdaBoostClassifier()\n",
    "\n",
    "rfc.fit(xTrain, yTrain)\n",
    "\n",
    "predictions = rfc.predict(xTest) "
   ]
  },
  {
   "cell_type": "code",
   "execution_count": 27,
   "metadata": {},
   "outputs": [
    {
     "name": "stdout",
     "output_type": "stream",
     "text": [
      "Accuracy =  0.7696969696969697\n"
     ]
    }
   ],
   "source": [
    "# Calculate testing accuracy\n",
    "\n",
    "from sklearn import metrics \n",
    "\n",
    "print(\"Accuracy = \",metrics.accuracy_score(yTest, predictions))"
   ]
  },
  {
   "cell_type": "code",
   "execution_count": 28,
   "metadata": {},
   "outputs": [
    {
     "data": {
      "text/html": [
       "<div>\n",
       "<style scoped>\n",
       "    .dataframe tbody tr th:only-of-type {\n",
       "        vertical-align: middle;\n",
       "    }\n",
       "\n",
       "    .dataframe tbody tr th {\n",
       "        vertical-align: top;\n",
       "    }\n",
       "\n",
       "    .dataframe thead th {\n",
       "        text-align: right;\n",
       "    }\n",
       "</style>\n",
       "<table border=\"1\" class=\"dataframe\">\n",
       "  <thead>\n",
       "    <tr style=\"text-align: right;\">\n",
       "      <th>col_0</th>\n",
       "      <th>0</th>\n",
       "      <th>1</th>\n",
       "    </tr>\n",
       "    <tr>\n",
       "      <th>Choice</th>\n",
       "      <th></th>\n",
       "      <th></th>\n",
       "    </tr>\n",
       "  </thead>\n",
       "  <tbody>\n",
       "    <tr>\n",
       "      <th>0</th>\n",
       "      <td>624</td>\n",
       "      <td>195</td>\n",
       "    </tr>\n",
       "    <tr>\n",
       "      <th>1</th>\n",
       "      <td>185</td>\n",
       "      <td>646</td>\n",
       "    </tr>\n",
       "  </tbody>\n",
       "</table>\n",
       "</div>"
      ],
      "text/plain": [
       "col_0     0    1\n",
       "Choice          \n",
       "0       624  195\n",
       "1       185  646"
      ]
     },
     "execution_count": 28,
     "metadata": {},
     "output_type": "execute_result"
    }
   ],
   "source": [
    "# Confusion matrix.\n",
    "pd.crosstab(yTest, predictions)"
   ]
  },
  {
   "cell_type": "code",
   "execution_count": 29,
   "metadata": {},
   "outputs": [
    {
     "name": "stdout",
     "output_type": "stream",
     "text": [
      "AUC =  0.8678490248887359\n"
     ]
    }
   ],
   "source": [
    "# Calculating the AUC score. \n",
    "predictionsProbability = rfc.predict_proba(xTest)[:,1]\n",
    "predictionsProbability \n",
    "print(\"AUC = \",metrics.roc_auc_score(yTest, predictionsProbability))"
   ]
  },
  {
   "cell_type": "code",
   "execution_count": 30,
   "metadata": {
    "scrolled": true
   },
   "outputs": [
    {
     "data": {
      "text/plain": [
       "Text(0,0.5,'True Positive Rate (Sensitivity)')"
      ]
     },
     "execution_count": 30,
     "metadata": {},
     "output_type": "execute_result"
    },
    {
     "data": {
      "image/png": "[encoded data removed]",
      "text/plain": [
       "<Figure size 432x288 with 1 Axes>"
      ]
     },
     "metadata": {},
     "output_type": "display_data"
    }
   ],
   "source": [
    "# Plot the ROC curve.\n",
    "%matplotlib inline\n",
    "import matplotlib.pyplot as plt\n",
    "fpr, tpr, thresholds = metrics.roc_curve(yTest, predictionsProbability)\n",
    "plt.plot(fpr, tpr)\n",
    "plt.xlim([0.0, 1.0])\n",
    "plt.ylim([0.0, 1.0])\n",
    "plt.xlabel('False Positive Rate (1 - Specificity)')\n",
    "plt.ylabel('True Positive Rate (Sensitivity)')"
   ]
  },
  {
   "cell_type": "code",
   "execution_count": 31,
   "metadata": {},
   "outputs": [
    {
     "name": "stdout",
     "output_type": "stream",
     "text": [
      "Accuracy: 0.773 (+/- 0.044)\n"
     ]
    }
   ],
   "source": [
    "# K-Fold Cross validation. \n",
    "from sklearn.model_selection import cross_val_score\n",
    "k=10\n",
    "scores=cross_val_score(rfc,data.iloc[:,1:],data.iloc[:,0],cv=k)\n",
    "print(\"Accuracy: %0.3f (+/- %0.3f)\" % (scores.mean(), scores.std() * 2))"
   ]
  },
  {
   "cell_type": "code",
   "execution_count": 32,
   "metadata": {},
   "outputs": [
    {
     "name": "stdout",
     "output_type": "stream",
     "text": [
      "AUC: 0.862 (+/- 0.037)\n"
     ]
    }
   ],
   "source": [
    "# K-Fold Cross validation. \n",
    "k=10\n",
    "scores=cross_val_score(rfc,data.iloc[:,1:],data.iloc[:,0],cv=k,scoring='roc_auc')\n",
    "print(\"AUC: %0.3f (+/- %0.3f)\" % (scores.mean(), scores.std() * 2))"
   ]
  },
  {
   "cell_type": "markdown",
   "metadata": {},
   "source": [
    "## Naive Bayes Classificator"
   ]
  },
  {
   "cell_type": "code",
   "execution_count": 33,
   "metadata": {},
   "outputs": [],
   "source": [
    "# Naive Bayes Classifier. \n",
    "\n",
    "from sklearn.naive_bayes import GaussianNB\n",
    "\n",
    "# Parameter is the number of neighbors. \n",
    "\n",
    "rfc = GaussianNB()\n",
    "\n",
    "rfc.fit(xTrain, yTrain)\n",
    "\n",
    "predictions = rfc.predict(xTest) "
   ]
  },
  {
   "cell_type": "code",
   "execution_count": 34,
   "metadata": {},
   "outputs": [
    {
     "name": "stdout",
     "output_type": "stream",
     "text": [
      "Accuracy =  0.5448484848484848\n"
     ]
    }
   ],
   "source": [
    "# Calculate testing accuracy\n",
    "\n",
    "from sklearn import metrics \n",
    "\n",
    "print(\"Accuracy = \",metrics.accuracy_score(yTest, predictions))"
   ]
  },
  {
   "cell_type": "code",
   "execution_count": 35,
   "metadata": {},
   "outputs": [
    {
     "data": {
      "text/html": [
       "<div>\n",
       "<style scoped>\n",
       "    .dataframe tbody tr th:only-of-type {\n",
       "        vertical-align: middle;\n",
       "    }\n",
       "\n",
       "    .dataframe tbody tr th {\n",
       "        vertical-align: top;\n",
       "    }\n",
       "\n",
       "    .dataframe thead th {\n",
       "        text-align: right;\n",
       "    }\n",
       "</style>\n",
       "<table border=\"1\" class=\"dataframe\">\n",
       "  <thead>\n",
       "    <tr style=\"text-align: right;\">\n",
       "      <th>col_0</th>\n",
       "      <th>0</th>\n",
       "      <th>1</th>\n",
       "    </tr>\n",
       "    <tr>\n",
       "      <th>Choice</th>\n",
       "      <th></th>\n",
       "      <th></th>\n",
       "    </tr>\n",
       "  </thead>\n",
       "  <tbody>\n",
       "    <tr>\n",
       "      <th>0</th>\n",
       "      <td>121</td>\n",
       "      <td>698</td>\n",
       "    </tr>\n",
       "    <tr>\n",
       "      <th>1</th>\n",
       "      <td>53</td>\n",
       "      <td>778</td>\n",
       "    </tr>\n",
       "  </tbody>\n",
       "</table>\n",
       "</div>"
      ],
      "text/plain": [
       "col_0     0    1\n",
       "Choice          \n",
       "0       121  698\n",
       "1        53  778"
      ]
     },
     "execution_count": 35,
     "metadata": {},
     "output_type": "execute_result"
    }
   ],
   "source": [
    "# Confusion matrix.\n",
    "pd.crosstab(yTest, predictions)"
   ]
  },
  {
   "cell_type": "code",
   "execution_count": 36,
   "metadata": {},
   "outputs": [
    {
     "name": "stdout",
     "output_type": "stream",
     "text": [
      "AUC =  0.6736936682785059\n"
     ]
    }
   ],
   "source": [
    "# Calculating the AUC score. \n",
    "predictionsProbability = rfc.predict_proba(xTest)[:,1]\n",
    "predictionsProbability \n",
    "print(\"AUC = \",metrics.roc_auc_score(yTest, predictionsProbability))"
   ]
  },
  {
   "cell_type": "code",
   "execution_count": 37,
   "metadata": {
    "scrolled": true
   },
   "outputs": [
    {
     "data": {
      "text/plain": [
       "Text(0,0.5,'True Positive Rate (Sensitivity)')"
      ]
     },
     "execution_count": 37,
     "metadata": {},
     "output_type": "execute_result"
    },
    {
     "data": {
      "image/png": "[encoded data removed]",
      "text/plain": [
       "<Figure size 432x288 with 1 Axes>"
      ]
     },
     "metadata": {},
     "output_type": "display_data"
    }
   ],
   "source": [
    "# Plot the ROC curve.\n",
    "%matplotlib inline\n",
    "import matplotlib.pyplot as plt\n",
    "fpr, tpr, thresholds = metrics.roc_curve(yTest, predictionsProbability)\n",
    "plt.plot(fpr, tpr)\n",
    "plt.xlim([0.0, 1.0])\n",
    "plt.ylim([0.0, 1.0])\n",
    "plt.xlabel('False Positive Rate (1 - Specificity)')\n",
    "plt.ylabel('True Positive Rate (Sensitivity)')"
   ]
  },
  {
   "cell_type": "code",
   "execution_count": 38,
   "metadata": {},
   "outputs": [
    {
     "name": "stdout",
     "output_type": "stream",
     "text": [
      "Accuracy: 0.550 (+/- 0.023)\n"
     ]
    }
   ],
   "source": [
    "# K-Fold Cross validation. \n",
    "from sklearn.model_selection import cross_val_score\n",
    "k=10\n",
    "scores=cross_val_score(rfc,data.iloc[:,1:],data.iloc[:,0],cv=k)\n",
    "print(\"Accuracy: %0.3f (+/- %0.3f)\" % (scores.mean(), scores.std() * 2))"
   ]
  },
  {
   "cell_type": "code",
   "execution_count": 39,
   "metadata": {},
   "outputs": [
    {
     "name": "stdout",
     "output_type": "stream",
     "text": [
      "AUC: 0.715 (+/- 0.041)\n"
     ]
    }
   ],
   "source": [
    "# K-Fold Cross validation. \n",
    "k=10\n",
    "scores=cross_val_score(rfc,data.iloc[:,1:],data.iloc[:,0],cv=k,scoring='roc_auc')\n",
    "print(\"AUC: %0.3f (+/- %0.3f)\" % (scores.mean(), scores.std() * 2))"
   ]
  },
  {
   "cell_type": "markdown",
   "metadata": {},
   "source": [
    "## Quadratic Discriminant Analysis"
   ]
  },
  {
   "cell_type": "code",
   "execution_count": 40,
   "metadata": {},
   "outputs": [],
   "source": [
    "# Quadratic Discriminant Analysis Classifier.\n",
    "\n",
    "from sklearn.discriminant_analysis import QuadraticDiscriminantAnalysis\n",
    "\n",
    "rfc = QuadraticDiscriminantAnalysis()\n",
    "\n",
    "rfc.fit(xTrain, yTrain)\n",
    "\n",
    "predictions = rfc.predict(xTest) "
   ]
  },
  {
   "cell_type": "code",
   "execution_count": 41,
   "metadata": {},
   "outputs": [
    {
     "name": "stdout",
     "output_type": "stream",
     "text": [
      "Accuracy =  0.5806060606060606\n"
     ]
    }
   ],
   "source": [
    "# Calculate testing accuracy\n",
    "\n",
    "from sklearn import metrics \n",
    "\n",
    "print(\"Accuracy = \",metrics.accuracy_score(yTest, predictions))"
   ]
  },
  {
   "cell_type": "code",
   "execution_count": 42,
   "metadata": {},
   "outputs": [
    {
     "data": {
      "text/html": [
       "<div>\n",
       "<style scoped>\n",
       "    .dataframe tbody tr th:only-of-type {\n",
       "        vertical-align: middle;\n",
       "    }\n",
       "\n",
       "    .dataframe tbody tr th {\n",
       "        vertical-align: top;\n",
       "    }\n",
       "\n",
       "    .dataframe thead th {\n",
       "        text-align: right;\n",
       "    }\n",
       "</style>\n",
       "<table border=\"1\" class=\"dataframe\">\n",
       "  <thead>\n",
       "    <tr style=\"text-align: right;\">\n",
       "      <th>col_0</th>\n",
       "      <th>0</th>\n",
       "      <th>1</th>\n",
       "    </tr>\n",
       "    <tr>\n",
       "      <th>Choice</th>\n",
       "      <th></th>\n",
       "      <th></th>\n",
       "    </tr>\n",
       "  </thead>\n",
       "  <tbody>\n",
       "    <tr>\n",
       "      <th>0</th>\n",
       "      <td>199</td>\n",
       "      <td>620</td>\n",
       "    </tr>\n",
       "    <tr>\n",
       "      <th>1</th>\n",
       "      <td>72</td>\n",
       "      <td>759</td>\n",
       "    </tr>\n",
       "  </tbody>\n",
       "</table>\n",
       "</div>"
      ],
      "text/plain": [
       "col_0     0    1\n",
       "Choice          \n",
       "0       199  620\n",
       "1        72  759"
      ]
     },
     "execution_count": 42,
     "metadata": {},
     "output_type": "execute_result"
    }
   ],
   "source": [
    "# Confusion matrix.\n",
    "pd.crosstab(yTest, predictions)"
   ]
  },
  {
   "cell_type": "code",
   "execution_count": 43,
   "metadata": {},
   "outputs": [
    {
     "name": "stdout",
     "output_type": "stream",
     "text": [
      "AUC =  0.7246671632953221\n"
     ]
    }
   ],
   "source": [
    "# Calculating the AUC score. \n",
    "predictionsProbability = rfc.predict_proba(xTest)[:,1]\n",
    "predictionsProbability \n",
    "print(\"AUC = \",metrics.roc_auc_score(yTest, predictionsProbability))"
   ]
  },
  {
   "cell_type": "code",
   "execution_count": 44,
   "metadata": {
    "scrolled": true
   },
   "outputs": [
    {
     "data": {
      "text/plain": [
       "Text(0,0.5,'True Positive Rate (Sensitivity)')"
      ]
     },
     "execution_count": 44,
     "metadata": {},
     "output_type": "execute_result"
    },
    {
     "data": {
      "image/png": "[encoded data removed]",
      "text/plain": [
       "<Figure size 432x288 with 1 Axes>"
      ]
     },
     "metadata": {},
     "output_type": "display_data"
    }
   ],
   "source": [
    "# Plot the ROC curve.\n",
    "%matplotlib inline\n",
    "import matplotlib.pyplot as plt\n",
    "fpr, tpr, thresholds = metrics.roc_curve(yTest, predictionsProbability)\n",
    "plt.plot(fpr, tpr)\n",
    "plt.xlim([0.0, 1.0])\n",
    "plt.ylim([0.0, 1.0])\n",
    "plt.xlabel('False Positive Rate (1 - Specificity)')\n",
    "plt.ylabel('True Positive Rate (Sensitivity)')"
   ]
  },
  {
   "cell_type": "code",
   "execution_count": 45,
   "metadata": {},
   "outputs": [
    {
     "name": "stdout",
     "output_type": "stream",
     "text": [
      "Accuracy: 0.595 (+/- 0.031)\n"
     ]
    }
   ],
   "source": [
    "# K-Fold Cross validation. \n",
    "from sklearn.model_selection import cross_val_score\n",
    "k=10\n",
    "scores=cross_val_score(rfc,data.iloc[:,1:],data.iloc[:,0],cv=k)\n",
    "print(\"Accuracy: %0.3f (+/- %0.3f)\" % (scores.mean(), scores.std() * 2))"
   ]
  },
  {
   "cell_type": "code",
   "execution_count": 46,
   "metadata": {},
   "outputs": [
    {
     "name": "stdout",
     "output_type": "stream",
     "text": [
      "AUC: 0.734 (+/- 0.049)\n"
     ]
    }
   ],
   "source": [
    "# K-Fold Cross validation. \n",
    "k=10\n",
    "scores=cross_val_score(rfc,data.iloc[:,1:],data.iloc[:,0],cv=k,scoring='roc_auc')\n",
    "print(\"AUC: %0.3f (+/- %0.3f)\" % (scores.mean(), scores.std() * 2))"
   ]
  },
  {
   "cell_type": "markdown",
   "metadata": {},
   "source": [
    "## Ensemble Methods"
   ]
  },
  {
   "cell_type": "code",
   "execution_count": null,
   "metadata": {},
   "outputs": [],
   "source": []
  },
  {
   "cell_type": "code",
   "execution_count": 8,
   "metadata": {},
   "outputs": [
    {
     "data": {
      "text/html": [
       "<div>\n",
       "<style scoped>\n",
       "    .dataframe tbody tr th:only-of-type {\n",
       "        vertical-align: middle;\n",
       "    }\n",
       "\n",
       "    .dataframe tbody tr th {\n",
       "        vertical-align: top;\n",
       "    }\n",
       "\n",
       "    .dataframe thead th {\n",
       "        text-align: right;\n",
       "    }\n",
       "</style>\n",
       "<table border=\"1\" class=\"dataframe\">\n",
       "  <thead>\n",
       "    <tr style=\"text-align: right;\">\n",
       "      <th></th>\n",
       "      <th>A_follower_count</th>\n",
       "      <th>A_following_count</th>\n",
       "      <th>A_listed_count</th>\n",
       "      <th>A_mentions_received</th>\n",
       "      <th>A_retweets_received</th>\n",
       "      <th>A_mentions_sent</th>\n",
       "      <th>A_retweets_sent</th>\n",
       "      <th>A_posts</th>\n",
       "      <th>A_network_feature_1</th>\n",
       "      <th>A_network_feature_2</th>\n",
       "      <th>...</th>\n",
       "      <th>B_following_count</th>\n",
       "      <th>B_listed_count</th>\n",
       "      <th>B_mentions_received</th>\n",
       "      <th>B_retweets_received</th>\n",
       "      <th>B_mentions_sent</th>\n",
       "      <th>B_retweets_sent</th>\n",
       "      <th>B_posts</th>\n",
       "      <th>B_network_feature_1</th>\n",
       "      <th>B_network_feature_2</th>\n",
       "      <th>B_network_feature_3</th>\n",
       "    </tr>\n",
       "  </thead>\n",
       "  <tbody>\n",
       "    <tr>\n",
       "      <th>0</th>\n",
       "      <td>614689</td>\n",
       "      <td>400</td>\n",
       "      <td>5729</td>\n",
       "      <td>199.618296</td>\n",
       "      <td>67.812469</td>\n",
       "      <td>9.366192</td>\n",
       "      <td>0.359534</td>\n",
       "      <td>4.094488</td>\n",
       "      <td>669</td>\n",
       "      <td>39.193741</td>\n",
       "      <td>...</td>\n",
       "      <td>563</td>\n",
       "      <td>20057</td>\n",
       "      <td>967.720642</td>\n",
       "      <td>579.431128</td>\n",
       "      <td>4.473798</td>\n",
       "      <td>0.805680</td>\n",
       "      <td>6.241806</td>\n",
       "      <td>4027</td>\n",
       "      <td>57.643839</td>\n",
       "      <td>3201.293706</td>\n",
       "    </tr>\n",
       "    <tr>\n",
       "      <th>1</th>\n",
       "      <td>739581</td>\n",
       "      <td>10723</td>\n",
       "      <td>1279</td>\n",
       "      <td>102.026750</td>\n",
       "      <td>96.771319</td>\n",
       "      <td>1.537322</td>\n",
       "      <td>1.054358</td>\n",
       "      <td>3.467754</td>\n",
       "      <td>432</td>\n",
       "      <td>11.191686</td>\n",
       "      <td>...</td>\n",
       "      <td>12949</td>\n",
       "      <td>1311</td>\n",
       "      <td>38.260522</td>\n",
       "      <td>10.697567</td>\n",
       "      <td>12.845793</td>\n",
       "      <td>1.584284</td>\n",
       "      <td>12.106662</td>\n",
       "      <td>144</td>\n",
       "      <td>209.717241</td>\n",
       "      <td>21496.565517</td>\n",
       "    </tr>\n",
       "    <tr>\n",
       "      <th>2</th>\n",
       "      <td>3638</td>\n",
       "      <td>3341</td>\n",
       "      <td>85</td>\n",
       "      <td>2.793577</td>\n",
       "      <td>1.402703</td>\n",
       "      <td>2.594089</td>\n",
       "      <td>0.598150</td>\n",
       "      <td>3.802143</td>\n",
       "      <td>11</td>\n",
       "      <td>9.416667</td>\n",
       "      <td>...</td>\n",
       "      <td>320</td>\n",
       "      <td>3673</td>\n",
       "      <td>1207.190077</td>\n",
       "      <td>599.721600</td>\n",
       "      <td>0.842022</td>\n",
       "      <td>0.593199</td>\n",
       "      <td>7.044735</td>\n",
       "      <td>3918</td>\n",
       "      <td>7.859818</td>\n",
       "      <td>637.983300</td>\n",
       "    </tr>\n",
       "    <tr>\n",
       "      <th>3</th>\n",
       "      <td>613</td>\n",
       "      <td>1259</td>\n",
       "      <td>31</td>\n",
       "      <td>1.326041</td>\n",
       "      <td>0.356943</td>\n",
       "      <td>6.249678</td>\n",
       "      <td>2.323064</td>\n",
       "      <td>7.488116</td>\n",
       "      <td>4</td>\n",
       "      <td>5.000000</td>\n",
       "      <td>...</td>\n",
       "      <td>3599</td>\n",
       "      <td>1072</td>\n",
       "      <td>10.300222</td>\n",
       "      <td>3.828561</td>\n",
       "      <td>1.624092</td>\n",
       "      <td>0.100503</td>\n",
       "      <td>1.614287</td>\n",
       "      <td>43</td>\n",
       "      <td>113.840909</td>\n",
       "      <td>2537.772727</td>\n",
       "    </tr>\n",
       "    <tr>\n",
       "      <th>4</th>\n",
       "      <td>1352348</td>\n",
       "      <td>331</td>\n",
       "      <td>15647</td>\n",
       "      <td>19129.848662</td>\n",
       "      <td>14552.733991</td>\n",
       "      <td>2.065418</td>\n",
       "      <td>0.580955</td>\n",
       "      <td>16.281502</td>\n",
       "      <td>52580</td>\n",
       "      <td>3.092448</td>\n",
       "      <td>...</td>\n",
       "      <td>147521</td>\n",
       "      <td>15043</td>\n",
       "      <td>9902.070379</td>\n",
       "      <td>5012.055876</td>\n",
       "      <td>10.438460</td>\n",
       "      <td>0.100503</td>\n",
       "      <td>193.072418</td>\n",
       "      <td>28564</td>\n",
       "      <td>10.964144</td>\n",
       "      <td>1035.955493</td>\n",
       "    </tr>\n",
       "  </tbody>\n",
       "</table>\n",
       "<p>5 rows × 22 columns</p>\n",
       "</div>"
      ],
      "text/plain": [
       "   A_follower_count  A_following_count  A_listed_count  A_mentions_received  \\\n",
       "0            614689                400            5729           199.618296   \n",
       "1            739581              10723            1279           102.026750   \n",
       "2              3638               3341              85             2.793577   \n",
       "3               613               1259              31             1.326041   \n",
       "4           1352348                331           15647         19129.848662   \n",
       "\n",
       "   A_retweets_received  A_mentions_sent  A_retweets_sent    A_posts  \\\n",
       "0            67.812469         9.366192         0.359534   4.094488   \n",
       "1            96.771319         1.537322         1.054358   3.467754   \n",
       "2             1.402703         2.594089         0.598150   3.802143   \n",
       "3             0.356943         6.249678         2.323064   7.488116   \n",
       "4         14552.733991         2.065418         0.580955  16.281502   \n",
       "\n",
       "   A_network_feature_1  A_network_feature_2         ...           \\\n",
       "0                  669            39.193741         ...            \n",
       "1                  432            11.191686         ...            \n",
       "2                   11             9.416667         ...            \n",
       "3                    4             5.000000         ...            \n",
       "4                52580             3.092448         ...            \n",
       "\n",
       "   B_following_count  B_listed_count  B_mentions_received  \\\n",
       "0                563           20057           967.720642   \n",
       "1              12949            1311            38.260522   \n",
       "2                320            3673          1207.190077   \n",
       "3               3599            1072            10.300222   \n",
       "4             147521           15043          9902.070379   \n",
       "\n",
       "   B_retweets_received  B_mentions_sent  B_retweets_sent     B_posts  \\\n",
       "0           579.431128         4.473798         0.805680    6.241806   \n",
       "1            10.697567        12.845793         1.584284   12.106662   \n",
       "2           599.721600         0.842022         0.593199    7.044735   \n",
       "3             3.828561         1.624092         0.100503    1.614287   \n",
       "4          5012.055876        10.438460         0.100503  193.072418   \n",
       "\n",
       "   B_network_feature_1  B_network_feature_2  B_network_feature_3  \n",
       "0                 4027            57.643839          3201.293706  \n",
       "1                  144           209.717241         21496.565517  \n",
       "2                 3918             7.859818           637.983300  \n",
       "3                   43           113.840909          2537.772727  \n",
       "4                28564            10.964144          1035.955493  \n",
       "\n",
       "[5 rows x 22 columns]"
      ]
     },
     "execution_count": 8,
     "metadata": {},
     "output_type": "execute_result"
    }
   ],
   "source": [
    "# Validation data to upload results to kaggle.\n",
    "\n",
    "validation = pd.read_csv(\"./datasets/test.csv\",sep=\",\")\n",
    "validation.head()"
   ]
  }
 ],
 "metadata": {
  "kernelspec": {
   "display_name": "Python 3",
   "language": "python",
   "name": "python3"
  },
  "language_info": {
   "codemirror_mode": {
    "name": "ipython",
    "version": 3
   },
   "file_extension": ".py",
   "mimetype": "text/x-python",
   "name": "python",
   "nbconvert_exporter": "python",
   "pygments_lexer": "ipython3",
   "version": "3.6.5"
  }
 },
 "nbformat": 4,
 "nbformat_minor": 2
}
